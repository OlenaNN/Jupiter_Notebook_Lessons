{
 "cells": [
  {
   "cell_type": "markdown",
   "metadata": {},
   "source": [
    "## Метод format()"
   ]
  },
  {
   "cell_type": "code",
   "execution_count": 2,
   "metadata": {},
   "outputs": [
    {
     "name": "stdout",
     "output_type": "stream",
     "text": [
      "Возраст Swaroop -- 26 лет.\n",
      "Почему Swaroop забавляется с этим Python?\n"
     ]
    }
   ],
   "source": [
    "age = 26\n",
    "name = 'Swaroop'\n",
    "print('Возраст {0} -- {1} лет.'.format(name, age))\n",
    "print('Почему {0} забавляется с этим Python?'.format(name))"
   ]
  },
  {
   "cell_type": "markdown",
   "metadata": {},
   "source": [
    "В строку могут быть включены определённые обозначения, а впоследствии\n",
    "может быть вызван метод format для замещения этих обозначений соответствующими аргументами."
   ]
  },
  {
   "cell_type": "code",
   "execution_count": 3,
   "metadata": {},
   "outputs": [
    {
     "name": "stdout",
     "output_type": "stream",
     "text": [
      "Возраст Swaroop -- 26 лет.\n",
      "Почему Swaroop забавляется с этим Python?\n"
     ]
    }
   ],
   "source": [
    "age = 26\n",
    "name = 'Swaroop'\n",
    "print('Возраст {} -- {} лет.'.format(name, age))\n",
    "print('Почему {} забавляется с этим Python?'.format(name))"
   ]
  },
  {
   "cell_type": "code",
   "execution_count": 4,
   "metadata": {},
   "outputs": [
    {
     "data": {
      "text/plain": [
       "'0.333'"
      ]
     },
     "execution_count": 4,
     "metadata": {},
     "output_type": "execute_result"
    }
   ],
   "source": [
    "# десятичное число (.) с точностью в 3 знака для плавающих:\n",
    "'{0:.3}'.format(1/3)\n"
   ]
  },
  {
   "cell_type": "code",
   "execution_count": 6,
   "metadata": {},
   "outputs": [
    {
     "data": {
      "text/plain": [
       "'0.17'"
      ]
     },
     "execution_count": 6,
     "metadata": {},
     "output_type": "execute_result"
    }
   ],
   "source": [
    "'{:.2f}'.format(1/6)"
   ]
  },
  {
   "cell_type": "code",
   "execution_count": 7,
   "metadata": {},
   "outputs": [
    {
     "data": {
      "text/plain": [
       "'___hello___'"
      ]
     },
     "execution_count": 7,
     "metadata": {},
     "output_type": "execute_result"
    }
   ],
   "source": [
    "# заполнить подчёркиваниями (_) с центровкой текста (^) по ширине 11:\n",
    "'{0:_^11}'.format('hello')\n"
   ]
  },
  {
   "cell_type": "code",
   "execution_count": 8,
   "metadata": {},
   "outputs": [
    {
     "name": "stdout",
     "output_type": "stream",
     "text": [
      "заполнить подчёркиваниями (_) с центровкой текста (^) по ширине 15: _____LOVE______\n"
     ]
    }
   ],
   "source": [
    "print('заполнить подчёркиваниями (_) с центровкой текста (^) по ширине 15: {0:_^15}'.format('LOVE'))"
   ]
  },
  {
   "cell_type": "code",
   "execution_count": 9,
   "metadata": {},
   "outputs": [
    {
     "data": {
      "text/plain": [
       "'Swaroop написал A Byte of Python'"
      ]
     },
     "execution_count": 9,
     "metadata": {},
     "output_type": "execute_result"
    }
   ],
   "source": [
    "# по ключевым словам:\n",
    "'{name} написал {book}'.format(name='Swaroop', book='A Byte of Python')"
   ]
  },
  {
   "cell_type": "markdown",
   "metadata": {},
   "source": [
    "Python строго объектно ориентирован в том смысле, что объектом является всё, включая\n",
    "числа, строки и функции.\n"
   ]
  },
  {
   "cell_type": "code",
   "execution_count": null,
   "metadata": {
    "collapsed": true
   },
   "outputs": [],
   "source": []
  }
 ],
 "metadata": {
  "kernelspec": {
   "display_name": "Python 3",
   "language": "python",
   "name": "python3"
  },
  "language_info": {
   "codemirror_mode": {
    "name": "ipython",
    "version": 3
   },
   "file_extension": ".py",
   "mimetype": "text/x-python",
   "name": "python",
   "nbconvert_exporter": "python",
   "pygments_lexer": "ipython3",
   "version": "3.6.1"
  }
 },
 "nbformat": 4,
 "nbformat_minor": 2
}
