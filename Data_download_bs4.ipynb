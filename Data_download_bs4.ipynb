{
 "cells": [
  {
   "cell_type": "markdown",
   "metadata": {},
   "source": [
    "#### Завантажимо   з сайту https://www.wunderground.com/history/airport/UKHH/2017/07/02/DailyHistory.html  дані про максимальну щоденну температуру протягом 2016 року у Харкові  за допомогою python використовуючи бібліотеку urllib"
   ]
  },
  {
   "cell_type": "markdown",
   "metadata": {},
   "source": [
    "Для цього імпортуємо бібліотеки $urllib$, $BeautifulSoup$ та $pandas$ для обробки таблиці"
   ]
  },
  {
   "cell_type": "code",
   "execution_count": 1,
   "metadata": {
    "collapsed": true
   },
   "outputs": [],
   "source": [
    "import urllib\n",
    "from bs4 import BeautifulSoup\n",
    "import pandas as pd"
   ]
  },
  {
   "cell_type": "markdown",
   "metadata": {},
   "source": [
    "Завантажимо сторінку  з інформацією про погоду у Харкові"
   ]
  },
  {
   "cell_type": "code",
   "execution_count": 7,
   "metadata": {
    "collapsed": true
   },
   "outputs": [],
   "source": [
    "page=urllib.request.urlopen(\"https://www.wunderground.com/history/airport/UKHH/2016/07/02/DailyHistory.html\")"
   ]
  },
  {
   "cell_type": "markdown",
   "metadata": {},
   "source": [
    "Скористуємось $BeautifulSoup$ щоб прочитати сторінку"
   ]
  },
  {
   "cell_type": "code",
   "execution_count": 8,
   "metadata": {},
   "outputs": [],
   "source": [
    "soup=BeautifulSoup(page,\"lxml\")"
   ]
  },
  {
   "cell_type": "markdown",
   "metadata": {},
   "source": [
    "Отримаємо перелік всіх зображень на сторінці, що завантажили"
   ]
  },
  {
   "cell_type": "code",
   "execution_count": 9,
   "metadata": {
    "collapsed": true
   },
   "outputs": [],
   "source": [
    "images=soup.find_all('img')"
   ]
  },
  {
   "cell_type": "code",
   "execution_count": 10,
   "metadata": {},
   "outputs": [
    {
     "data": {
      "text/plain": [
       "[<img alt=\"Daily Weather History Graph\" src=\"/cgi-bin/histGraphAll?day=2&amp;year=2016&amp;month=7&amp;ID=UKHH&amp;type=3&amp;width=614\"/>,\n",
       " <img src=\"https://b.scorecardresearch.com/p?c1=2&amp;c2=6164429&amp;cv=2.0&amp;cj=1\" style=\"display:none;\"/>,\n",
       " <img alt=\"\" height=\"1\" src=\"//secure-us.imrworldwide.com/cgi-bin/m?ci=us-203014h&amp;cg=0&amp;cc=1&amp;ts=noscript\" style=\"display: none;\" width=\"1\"/>]"
      ]
     },
     "execution_count": 10,
     "metadata": {},
     "output_type": "execute_result"
    }
   ],
   "source": [
    "images"
   ]
  },
  {
   "cell_type": "markdown",
   "metadata": {},
   "source": [
    "Отриимаємо перше зображення"
   ]
  },
  {
   "cell_type": "code",
   "execution_count": 11,
   "metadata": {},
   "outputs": [
    {
     "data": {
      "text/plain": [
       "<img alt=\"Daily Weather History Graph\" src=\"/cgi-bin/histGraphAll?day=2&amp;year=2016&amp;month=7&amp;ID=UKHH&amp;type=3&amp;width=614\"/>"
      ]
     },
     "execution_count": 11,
     "metadata": {},
     "output_type": "execute_result"
    }
   ],
   "source": [
    "FirstImg=images[0]\n",
    "FirstImg"
   ]
  },
  {
   "cell_type": "markdown",
   "metadata": {},
   "source": [
    "Отримаємо зображення з атрібутом $'src'$"
   ]
  },
  {
   "cell_type": "code",
   "execution_count": 12,
   "metadata": {},
   "outputs": [
    {
     "data": {
      "text/plain": [
       "'/cgi-bin/histGraphAll?day=2&year=2016&month=7&ID=UKHH&type=3&width=614'"
      ]
     },
     "execution_count": 12,
     "metadata": {},
     "output_type": "execute_result"
    }
   ],
   "source": [
    "src=FirstImg['src']\n",
    "src"
   ]
  },
  {
   "cell_type": "markdown",
   "metadata": {},
   "source": [
    "Виведемо максимальну температуру за 2.07.2016\n",
    "Для цього переглянему сторінку у режимі редактора і знайдемо всі рядки з тегом <span> і атрібутом класа \"wx-data\""
   ]
  },
  {
   "cell_type": "code",
   "execution_count": 13,
   "metadata": {},
   "outputs": [
    {
     "data": {
      "text/plain": [
       "[<span class=\"wx-data\"><span class=\"wx-value\">23</span><span class=\"wx-unit\"> °C</span></span>,\n",
       " <span class=\"wx-data\"><span class=\"wx-value\">28</span><span class=\"wx-unit\"> °C</span></span>,\n",
       " <span class=\"wx-data\"><span class=\"wx-value\">18</span><span class=\"wx-unit\"> °C</span></span>,\n",
       " <span class=\"wx-data\"><span class=\"wx-value\">14</span><span class=\"wx-unit\"> °C</span></span>,\n",
       " <span class=\"wx-data\"><span class=\"wx-value\">0.0</span><span class=\"wx-unit\"> mm</span></span>,\n",
       " <span class=\"wx-data\"><span class=\"wx-value\">2.0</span><span class=\"wx-unit\"> mm</span></span>,\n",
       " <span class=\"wx-data\"><span class=\"wx-value\">1016.75</span><span class=\"wx-unit\"> hPa</span></span>,\n",
       " <span class=\"wx-data\"><span class=\"wx-value\">9</span><span class=\"wx-unit\"> km/h</span></span>,\n",
       " <span class=\"wx-data\"><span class=\"wx-value\">22</span><span class=\"wx-unit\"> km/h</span></span>,\n",
       " <span class=\"wx-data\"><span class=\"wx-value\">10.0</span><span class=\"wx-unit\"> kilometers</span></span>,\n",
       " <span class=\"wx-data\"><span class=\"wx-value\">22</span><span class=\"wx-unit\"> °C</span></span>,\n",
       " <span class=\"wx-data\"><span class=\"wx-value\">14</span><span class=\"wx-unit\"> °C</span></span>,\n",
       " <span class=\"wx-data\"><span class=\"wx-value\">1016</span><span class=\"wx-unit\"> hPa</span></span>,\n",
       " <span class=\"wx-data\"><span class=\"wx-value\">10</span><span class=\"wx-unit\"> km</span></span>,\n",
       " <span class=\"wx-data\"><span class=\"wx-value\">10.8</span><span class=\"wx-unit\"> km/h</span></span>,\n",
       " <span class=\"wx-data\"><span class=\"wx-value\"></span><span class=\"wx-unit\"> </span></span>,\n",
       " <span class=\"wx-data\"><span class=\"wx-value\">21.0</span><span class=\"wx-unit\"> °C</span></span>,\n",
       " <span class=\"wx-data\"><span class=\"wx-value\">14.0</span><span class=\"wx-unit\"> °C</span></span>,\n",
       " <span class=\"wx-data\"><span class=\"wx-value\">1016</span><span class=\"wx-unit\"> hPa</span></span>,\n",
       " <span class=\"wx-data\"><span class=\"wx-value\">10.8</span><span class=\"wx-unit\"> km/h</span></span>,\n",
       " <span class=\"wx-data\"><span class=\"wx-value\">3.0</span><span class=\"wx-unit\"> m/s</span></span>,\n",
       " <span class=\"wx-data\"><span class=\"wx-value\">21.0</span><span class=\"wx-unit\"> °C</span></span>,\n",
       " <span class=\"wx-data\"><span class=\"wx-value\">14.0</span><span class=\"wx-unit\"> °C</span></span>,\n",
       " <span class=\"wx-data\"><span class=\"wx-value\">1017</span><span class=\"wx-unit\"> hPa</span></span>,\n",
       " <span class=\"wx-data\"><span class=\"wx-value\">10.8</span><span class=\"wx-unit\"> km/h</span></span>,\n",
       " <span class=\"wx-data\"><span class=\"wx-value\">3.0</span><span class=\"wx-unit\"> m/s</span></span>,\n",
       " <span class=\"wx-data\"><span class=\"wx-value\">20.0</span><span class=\"wx-unit\"> °C</span></span>,\n",
       " <span class=\"wx-data\"><span class=\"wx-value\">14.0</span><span class=\"wx-unit\"> °C</span></span>,\n",
       " <span class=\"wx-data\"><span class=\"wx-value\">1017</span><span class=\"wx-unit\"> hPa</span></span>,\n",
       " <span class=\"wx-data\"><span class=\"wx-value\">10.8</span><span class=\"wx-unit\"> km/h</span></span>,\n",
       " <span class=\"wx-data\"><span class=\"wx-value\">3.0</span><span class=\"wx-unit\"> m/s</span></span>,\n",
       " <span class=\"wx-data\"><span class=\"wx-value\">20.0</span><span class=\"wx-unit\"> °C</span></span>,\n",
       " <span class=\"wx-data\"><span class=\"wx-value\">13.0</span><span class=\"wx-unit\"> °C</span></span>,\n",
       " <span class=\"wx-data\"><span class=\"wx-value\">1016</span><span class=\"wx-unit\"> hPa</span></span>,\n",
       " <span class=\"wx-data\"><span class=\"wx-value\">10.8</span><span class=\"wx-unit\"> km/h</span></span>,\n",
       " <span class=\"wx-data\"><span class=\"wx-value\">3.0</span><span class=\"wx-unit\"> m/s</span></span>,\n",
       " <span class=\"wx-data\"><span class=\"wx-value\">20.0</span><span class=\"wx-unit\"> °C</span></span>,\n",
       " <span class=\"wx-data\"><span class=\"wx-value\">13.0</span><span class=\"wx-unit\"> °C</span></span>,\n",
       " <span class=\"wx-data\"><span class=\"wx-value\">1017</span><span class=\"wx-unit\"> hPa</span></span>,\n",
       " <span class=\"wx-data\"><span class=\"wx-value\">10.8</span><span class=\"wx-unit\"> km/h</span></span>,\n",
       " <span class=\"wx-data\"><span class=\"wx-value\">3.0</span><span class=\"wx-unit\"> m/s</span></span>,\n",
       " <span class=\"wx-data\"><span class=\"wx-value\">20.0</span><span class=\"wx-unit\"> °C</span></span>,\n",
       " <span class=\"wx-data\"><span class=\"wx-value\">13.0</span><span class=\"wx-unit\"> °C</span></span>,\n",
       " <span class=\"wx-data\"><span class=\"wx-value\">1017</span><span class=\"wx-unit\"> hPa</span></span>,\n",
       " <span class=\"wx-data\"><span class=\"wx-value\">10.8</span><span class=\"wx-unit\"> km/h</span></span>,\n",
       " <span class=\"wx-data\"><span class=\"wx-value\">3.0</span><span class=\"wx-unit\"> m/s</span></span>,\n",
       " <span class=\"wx-data\"><span class=\"wx-value\">20</span><span class=\"wx-unit\"> °C</span></span>,\n",
       " <span class=\"wx-data\"><span class=\"wx-value\">14</span><span class=\"wx-unit\"> °C</span></span>,\n",
       " <span class=\"wx-data\"><span class=\"wx-value\">1016</span><span class=\"wx-unit\"> hPa</span></span>,\n",
       " <span class=\"wx-data\"><span class=\"wx-value\">10</span><span class=\"wx-unit\"> km</span></span>,\n",
       " <span class=\"wx-data\"><span class=\"wx-value\">7.2</span><span class=\"wx-unit\"> km/h</span></span>,\n",
       " <span class=\"wx-data\"><span class=\"wx-value\"></span><span class=\"wx-unit\"> </span></span>,\n",
       " <span class=\"wx-data\"><span class=\"wx-value\">20.0</span><span class=\"wx-unit\"> °C</span></span>,\n",
       " <span class=\"wx-data\"><span class=\"wx-value\">13.0</span><span class=\"wx-unit\"> °C</span></span>,\n",
       " <span class=\"wx-data\"><span class=\"wx-value\">1017</span><span class=\"wx-unit\"> hPa</span></span>,\n",
       " <span class=\"wx-data\"><span class=\"wx-value\">7.2</span><span class=\"wx-unit\"> km/h</span></span>,\n",
       " <span class=\"wx-data\"><span class=\"wx-value\">2.0</span><span class=\"wx-unit\"> m/s</span></span>,\n",
       " <span class=\"wx-data\"><span class=\"wx-value\">19.0</span><span class=\"wx-unit\"> °C</span></span>,\n",
       " <span class=\"wx-data\"><span class=\"wx-value\">14.0</span><span class=\"wx-unit\"> °C</span></span>,\n",
       " <span class=\"wx-data\"><span class=\"wx-value\">1017</span><span class=\"wx-unit\"> hPa</span></span>,\n",
       " <span class=\"wx-data\"><span class=\"wx-value\">10.0</span><span class=\"wx-unit\"> km</span></span>,\n",
       " <span class=\"wx-data\"><span class=\"wx-value\">7.2</span><span class=\"wx-unit\"> km/h</span></span>,\n",
       " <span class=\"wx-data\"><span class=\"wx-value\">2.0</span><span class=\"wx-unit\"> m/s</span></span>,\n",
       " <span class=\"wx-data\"><span class=\"wx-value\">19.0</span><span class=\"wx-unit\"> °C</span></span>,\n",
       " <span class=\"wx-data\"><span class=\"wx-value\">15.0</span><span class=\"wx-unit\"> °C</span></span>,\n",
       " <span class=\"wx-data\"><span class=\"wx-value\">1017</span><span class=\"wx-unit\"> hPa</span></span>,\n",
       " <span class=\"wx-data\"><span class=\"wx-value\">10.0</span><span class=\"wx-unit\"> km</span></span>,\n",
       " <span class=\"wx-data\"><span class=\"wx-value\">7.2</span><span class=\"wx-unit\"> km/h</span></span>,\n",
       " <span class=\"wx-data\"><span class=\"wx-value\">2.0</span><span class=\"wx-unit\"> m/s</span></span>,\n",
       " <span class=\"wx-data\"><span class=\"wx-value\">18.0</span><span class=\"wx-unit\"> °C</span></span>,\n",
       " <span class=\"wx-data\"><span class=\"wx-value\">14.0</span><span class=\"wx-unit\"> °C</span></span>,\n",
       " <span class=\"wx-data\"><span class=\"wx-value\">1017</span><span class=\"wx-unit\"> hPa</span></span>,\n",
       " <span class=\"wx-data\"><span class=\"wx-value\">10.0</span><span class=\"wx-unit\"> km</span></span>,\n",
       " <span class=\"wx-data\"><span class=\"wx-value\">7.2</span><span class=\"wx-unit\"> km/h</span></span>,\n",
       " <span class=\"wx-data\"><span class=\"wx-value\">2.0</span><span class=\"wx-unit\"> m/s</span></span>,\n",
       " <span class=\"wx-data\"><span class=\"wx-value\">18.0</span><span class=\"wx-unit\"> °C</span></span>,\n",
       " <span class=\"wx-data\"><span class=\"wx-value\">14.0</span><span class=\"wx-unit\"> °C</span></span>,\n",
       " <span class=\"wx-data\"><span class=\"wx-value\">1017</span><span class=\"wx-unit\"> hPa</span></span>,\n",
       " <span class=\"wx-data\"><span class=\"wx-value\">10.0</span><span class=\"wx-unit\"> km</span></span>,\n",
       " <span class=\"wx-data\"><span class=\"wx-value\">10.8</span><span class=\"wx-unit\"> km/h</span></span>,\n",
       " <span class=\"wx-data\"><span class=\"wx-value\">3.0</span><span class=\"wx-unit\"> m/s</span></span>,\n",
       " <span class=\"wx-data\"><span class=\"wx-value\">19.0</span><span class=\"wx-unit\"> °C</span></span>,\n",
       " <span class=\"wx-data\"><span class=\"wx-value\">14.0</span><span class=\"wx-unit\"> °C</span></span>,\n",
       " <span class=\"wx-data\"><span class=\"wx-value\">1017</span><span class=\"wx-unit\"> hPa</span></span>,\n",
       " <span class=\"wx-data\"><span class=\"wx-value\">10.0</span><span class=\"wx-unit\"> km</span></span>,\n",
       " <span class=\"wx-data\"><span class=\"wx-value\">7.2</span><span class=\"wx-unit\"> km/h</span></span>,\n",
       " <span class=\"wx-data\"><span class=\"wx-value\">2.0</span><span class=\"wx-unit\"> m/s</span></span>,\n",
       " <span class=\"wx-data\"><span class=\"wx-value\">20</span><span class=\"wx-unit\"> °C</span></span>,\n",
       " <span class=\"wx-data\"><span class=\"wx-value\">15</span><span class=\"wx-unit\"> °C</span></span>,\n",
       " <span class=\"wx-data\"><span class=\"wx-value\">1017</span><span class=\"wx-unit\"> hPa</span></span>,\n",
       " <span class=\"wx-data\"><span class=\"wx-value\">10</span><span class=\"wx-unit\"> km</span></span>,\n",
       " <span class=\"wx-data\"><span class=\"wx-value\">7.2</span><span class=\"wx-unit\"> km/h</span></span>,\n",
       " <span class=\"wx-data\"><span class=\"wx-value\"></span><span class=\"wx-unit\"> </span></span>,\n",
       " <span class=\"wx-data\"><span class=\"wx-value\">20.0</span><span class=\"wx-unit\"> °C</span></span>,\n",
       " <span class=\"wx-data\"><span class=\"wx-value\">15.0</span><span class=\"wx-unit\"> °C</span></span>,\n",
       " <span class=\"wx-data\"><span class=\"wx-value\">1017</span><span class=\"wx-unit\"> hPa</span></span>,\n",
       " <span class=\"wx-data\"><span class=\"wx-value\">7.2</span><span class=\"wx-unit\"> km/h</span></span>,\n",
       " <span class=\"wx-data\"><span class=\"wx-value\">2.0</span><span class=\"wx-unit\"> m/s</span></span>,\n",
       " <span class=\"wx-data\"><span class=\"wx-value\">21.0</span><span class=\"wx-unit\"> °C</span></span>,\n",
       " <span class=\"wx-data\"><span class=\"wx-value\">14.0</span><span class=\"wx-unit\"> °C</span></span>,\n",
       " <span class=\"wx-data\"><span class=\"wx-value\">1018</span><span class=\"wx-unit\"> hPa</span></span>,\n",
       " <span class=\"wx-data\"><span class=\"wx-value\">7.2</span><span class=\"wx-unit\"> km/h</span></span>,\n",
       " <span class=\"wx-data\"><span class=\"wx-value\">2.0</span><span class=\"wx-unit\"> m/s</span></span>,\n",
       " <span class=\"wx-data\"><span class=\"wx-value\">22.0</span><span class=\"wx-unit\"> °C</span></span>,\n",
       " <span class=\"wx-data\"><span class=\"wx-value\">13.0</span><span class=\"wx-unit\"> °C</span></span>,\n",
       " <span class=\"wx-data\"><span class=\"wx-value\">1018</span><span class=\"wx-unit\"> hPa</span></span>,\n",
       " <span class=\"wx-data\"><span class=\"wx-value\">7.2</span><span class=\"wx-unit\"> km/h</span></span>,\n",
       " <span class=\"wx-data\"><span class=\"wx-value\">2.0</span><span class=\"wx-unit\"> m/s</span></span>,\n",
       " <span class=\"wx-data\"><span class=\"wx-value\">22.0</span><span class=\"wx-unit\"> °C</span></span>,\n",
       " <span class=\"wx-data\"><span class=\"wx-value\">14.0</span><span class=\"wx-unit\"> °C</span></span>,\n",
       " <span class=\"wx-data\"><span class=\"wx-value\">1018</span><span class=\"wx-unit\"> hPa</span></span>,\n",
       " <span class=\"wx-data\"><span class=\"wx-value\">7.2</span><span class=\"wx-unit\"> km/h</span></span>,\n",
       " <span class=\"wx-data\"><span class=\"wx-value\">2.0</span><span class=\"wx-unit\"> m/s</span></span>,\n",
       " <span class=\"wx-data\"><span class=\"wx-value\">23.0</span><span class=\"wx-unit\"> °C</span></span>,\n",
       " <span class=\"wx-data\"><span class=\"wx-value\">14.0</span><span class=\"wx-unit\"> °C</span></span>,\n",
       " <span class=\"wx-data\"><span class=\"wx-value\">1018</span><span class=\"wx-unit\"> hPa</span></span>,\n",
       " <span class=\"wx-data\"><span class=\"wx-value\">7.2</span><span class=\"wx-unit\"> km/h</span></span>,\n",
       " <span class=\"wx-data\"><span class=\"wx-value\">2.0</span><span class=\"wx-unit\"> m/s</span></span>,\n",
       " <span class=\"wx-data\"><span class=\"wx-value\">24.0</span><span class=\"wx-unit\"> °C</span></span>,\n",
       " <span class=\"wx-data\"><span class=\"wx-value\">13.0</span><span class=\"wx-unit\"> °C</span></span>,\n",
       " <span class=\"wx-data\"><span class=\"wx-value\">1018</span><span class=\"wx-unit\"> hPa</span></span>,\n",
       " <span class=\"wx-data\"><span class=\"wx-value\">10.8</span><span class=\"wx-unit\"> km/h</span></span>,\n",
       " <span class=\"wx-data\"><span class=\"wx-value\">3.0</span><span class=\"wx-unit\"> m/s</span></span>,\n",
       " <span class=\"wx-data\"><span class=\"wx-value\">24</span><span class=\"wx-unit\"> °C</span></span>,\n",
       " <span class=\"wx-data\"><span class=\"wx-value\">14</span><span class=\"wx-unit\"> °C</span></span>,\n",
       " <span class=\"wx-data\"><span class=\"wx-value\">1017</span><span class=\"wx-unit\"> hPa</span></span>,\n",
       " <span class=\"wx-data\"><span class=\"wx-value\">10</span><span class=\"wx-unit\"> km</span></span>,\n",
       " <span class=\"wx-data\"><span class=\"wx-value\">10.8</span><span class=\"wx-unit\"> km/h</span></span>,\n",
       " <span class=\"wx-data\"><span class=\"wx-value\"></span><span class=\"wx-unit\"> </span></span>,\n",
       " <span class=\"wx-data\"><span class=\"wx-value\">25.0</span><span class=\"wx-unit\"> °C</span></span>,\n",
       " <span class=\"wx-data\"><span class=\"wx-value\">13.0</span><span class=\"wx-unit\"> °C</span></span>,\n",
       " <span class=\"wx-data\"><span class=\"wx-value\">1018</span><span class=\"wx-unit\"> hPa</span></span>,\n",
       " <span class=\"wx-data\"><span class=\"wx-value\">10.8</span><span class=\"wx-unit\"> km/h</span></span>,\n",
       " <span class=\"wx-data\"><span class=\"wx-value\">3.0</span><span class=\"wx-unit\"> m/s</span></span>,\n",
       " <span class=\"wx-data\"><span class=\"wx-value\">25.0</span><span class=\"wx-unit\"> °C</span></span>,\n",
       " <span class=\"wx-data\"><span class=\"wx-value\">13.0</span><span class=\"wx-unit\"> °C</span></span>,\n",
       " <span class=\"wx-data\"><span class=\"wx-value\">1018</span><span class=\"wx-unit\"> hPa</span></span>,\n",
       " <span class=\"wx-data\"><span class=\"wx-value\">14.4</span><span class=\"wx-unit\"> km/h</span></span>,\n",
       " <span class=\"wx-data\"><span class=\"wx-value\">4.0</span><span class=\"wx-unit\"> m/s</span></span>,\n",
       " <span class=\"wx-data\"><span class=\"wx-value\">26.0</span><span class=\"wx-unit\"> °C</span></span>,\n",
       " <span class=\"wx-data\"><span class=\"wx-value\">14.0</span><span class=\"wx-unit\"> °C</span></span>,\n",
       " <span class=\"wx-data\"><span class=\"wx-value\">1017</span><span class=\"wx-unit\"> hPa</span></span>,\n",
       " <span class=\"wx-data\"><span class=\"wx-value\">10.0</span><span class=\"wx-unit\"> km</span></span>,\n",
       " <span class=\"wx-data\"><span class=\"wx-value\">14.4</span><span class=\"wx-unit\"> km/h</span></span>,\n",
       " <span class=\"wx-data\"><span class=\"wx-value\">4.0</span><span class=\"wx-unit\"> m/s</span></span>,\n",
       " <span class=\"wx-data\"><span class=\"wx-value\">26.0</span><span class=\"wx-unit\"> °C</span></span>,\n",
       " <span class=\"wx-data\"><span class=\"wx-value\">13.0</span><span class=\"wx-unit\"> °C</span></span>,\n",
       " <span class=\"wx-data\"><span class=\"wx-value\">1018</span><span class=\"wx-unit\"> hPa</span></span>,\n",
       " <span class=\"wx-data\"><span class=\"wx-value\">10.0</span><span class=\"wx-unit\"> km</span></span>,\n",
       " <span class=\"wx-data\"><span class=\"wx-value\">14.4</span><span class=\"wx-unit\"> km/h</span></span>,\n",
       " <span class=\"wx-data\"><span class=\"wx-value\">4.0</span><span class=\"wx-unit\"> m/s</span></span>,\n",
       " <span class=\"wx-data\"><span class=\"wx-value\">26.0</span><span class=\"wx-unit\"> °C</span></span>,\n",
       " <span class=\"wx-data\"><span class=\"wx-value\">12.0</span><span class=\"wx-unit\"> °C</span></span>,\n",
       " <span class=\"wx-data\"><span class=\"wx-value\">1018</span><span class=\"wx-unit\"> hPa</span></span>,\n",
       " <span class=\"wx-data\"><span class=\"wx-value\">10.0</span><span class=\"wx-unit\"> km</span></span>,\n",
       " <span class=\"wx-data\"><span class=\"wx-value\">14.4</span><span class=\"wx-unit\"> km/h</span></span>,\n",
       " <span class=\"wx-data\"><span class=\"wx-value\">4.0</span><span class=\"wx-unit\"> m/s</span></span>,\n",
       " <span class=\"wx-data\"><span class=\"wx-value\">26.0</span><span class=\"wx-unit\"> °C</span></span>,\n",
       " <span class=\"wx-data\"><span class=\"wx-value\">12.0</span><span class=\"wx-unit\"> °C</span></span>,\n",
       " <span class=\"wx-data\"><span class=\"wx-value\">1018</span><span class=\"wx-unit\"> hPa</span></span>,\n",
       " <span class=\"wx-data\"><span class=\"wx-value\">10.0</span><span class=\"wx-unit\"> km</span></span>,\n",
       " <span class=\"wx-data\"><span class=\"wx-value\">21.6</span><span class=\"wx-unit\"> km/h</span></span>,\n",
       " <span class=\"wx-data\"><span class=\"wx-value\">6.0</span><span class=\"wx-unit\"> m/s</span></span>,\n",
       " <span class=\"wx-data\"><span class=\"wx-value\">26</span><span class=\"wx-unit\"> °C</span></span>,\n",
       " <span class=\"wx-data\"><span class=\"wx-value\">13</span><span class=\"wx-unit\"> °C</span></span>,\n",
       " <span class=\"wx-data\"><span class=\"wx-value\">1017</span><span class=\"wx-unit\"> hPa</span></span>,\n",
       " <span class=\"wx-data\"><span class=\"wx-value\">10</span><span class=\"wx-unit\"> km</span></span>,\n",
       " <span class=\"wx-data\"><span class=\"wx-value\">14.4</span><span class=\"wx-unit\"> km/h</span></span>,\n",
       " <span class=\"wx-data\"><span class=\"wx-value\"></span><span class=\"wx-unit\"> </span></span>,\n",
       " <span class=\"wx-data\"><span class=\"wx-value\">27.0</span><span class=\"wx-unit\"> °C</span></span>,\n",
       " <span class=\"wx-data\"><span class=\"wx-value\">26.8</span><span class=\"wx-unit\"> °C</span></span>,\n",
       " <span class=\"wx-data\"><span class=\"wx-value\">12.0</span><span class=\"wx-unit\"> °C</span></span>,\n",
       " <span class=\"wx-data\"><span class=\"wx-value\">1018</span><span class=\"wx-unit\"> hPa</span></span>,\n",
       " <span class=\"wx-data\"><span class=\"wx-value\">10.0</span><span class=\"wx-unit\"> km</span></span>,\n",
       " <span class=\"wx-data\"><span class=\"wx-value\">14.4</span><span class=\"wx-unit\"> km/h</span></span>,\n",
       " <span class=\"wx-data\"><span class=\"wx-value\">4.0</span><span class=\"wx-unit\"> m/s</span></span>,\n",
       " <span class=\"wx-data\"><span class=\"wx-value\">27.0</span><span class=\"wx-unit\"> °C</span></span>,\n",
       " <span class=\"wx-data\"><span class=\"wx-value\">26.8</span><span class=\"wx-unit\"> °C</span></span>,\n",
       " <span class=\"wx-data\"><span class=\"wx-value\">12.0</span><span class=\"wx-unit\"> °C</span></span>,\n",
       " <span class=\"wx-data\"><span class=\"wx-value\">1017</span><span class=\"wx-unit\"> hPa</span></span>,\n",
       " <span class=\"wx-data\"><span class=\"wx-value\">10.0</span><span class=\"wx-unit\"> km</span></span>,\n",
       " <span class=\"wx-data\"><span class=\"wx-value\">14.4</span><span class=\"wx-unit\"> km/h</span></span>,\n",
       " <span class=\"wx-data\"><span class=\"wx-value\">4.0</span><span class=\"wx-unit\"> m/s</span></span>,\n",
       " <span class=\"wx-data\"><span class=\"wx-value\">27.0</span><span class=\"wx-unit\"> °C</span></span>,\n",
       " <span class=\"wx-data\"><span class=\"wx-value\">27.1</span><span class=\"wx-unit\"> °C</span></span>,\n",
       " <span class=\"wx-data\"><span class=\"wx-value\">14.0</span><span class=\"wx-unit\"> °C</span></span>,\n",
       " <span class=\"wx-data\"><span class=\"wx-value\">1017</span><span class=\"wx-unit\"> hPa</span></span>,\n",
       " <span class=\"wx-data\"><span class=\"wx-value\">10.0</span><span class=\"wx-unit\"> km</span></span>,\n",
       " <span class=\"wx-data\"><span class=\"wx-value\">14.4</span><span class=\"wx-unit\"> km/h</span></span>,\n",
       " <span class=\"wx-data\"><span class=\"wx-value\">4.0</span><span class=\"wx-unit\"> m/s</span></span>,\n",
       " <span class=\"wx-data\"><span class=\"wx-value\">27.0</span><span class=\"wx-unit\"> °C</span></span>,\n",
       " <span class=\"wx-data\"><span class=\"wx-value\">27.0</span><span class=\"wx-unit\"> °C</span></span>,\n",
       " <span class=\"wx-data\"><span class=\"wx-value\">13.0</span><span class=\"wx-unit\"> °C</span></span>,\n",
       " <span class=\"wx-data\"><span class=\"wx-value\">1017</span><span class=\"wx-unit\"> hPa</span></span>,\n",
       " <span class=\"wx-data\"><span class=\"wx-value\">10.0</span><span class=\"wx-unit\"> km</span></span>,\n",
       " <span class=\"wx-data\"><span class=\"wx-value\">18.0</span><span class=\"wx-unit\"> km/h</span></span>,\n",
       " <span class=\"wx-data\"><span class=\"wx-value\">5.0</span><span class=\"wx-unit\"> m/s</span></span>,\n",
       " <span class=\"wx-data\"><span class=\"wx-value\">27.0</span><span class=\"wx-unit\"> °C</span></span>,\n",
       " <span class=\"wx-data\"><span class=\"wx-value\">27.1</span><span class=\"wx-unit\"> °C</span></span>,\n",
       " <span class=\"wx-data\"><span class=\"wx-value\">14.0</span><span class=\"wx-unit\"> °C</span></span>,\n",
       " <span class=\"wx-data\"><span class=\"wx-value\">1017</span><span class=\"wx-unit\"> hPa</span></span>,\n",
       " <span class=\"wx-data\"><span class=\"wx-value\">10.0</span><span class=\"wx-unit\"> km</span></span>,\n",
       " <span class=\"wx-data\"><span class=\"wx-value\">14.4</span><span class=\"wx-unit\"> km/h</span></span>,\n",
       " <span class=\"wx-data\"><span class=\"wx-value\">4.0</span><span class=\"wx-unit\"> m/s</span></span>,\n",
       " <span class=\"wx-data\"><span class=\"wx-value\">27.0</span><span class=\"wx-unit\"> °C</span></span>,\n",
       " <span class=\"wx-data\"><span class=\"wx-value\">27.0</span><span class=\"wx-unit\"> °C</span></span>,\n",
       " <span class=\"wx-data\"><span class=\"wx-value\">13.0</span><span class=\"wx-unit\"> °C</span></span>,\n",
       " <span class=\"wx-data\"><span class=\"wx-value\">1017</span><span class=\"wx-unit\"> hPa</span></span>,\n",
       " <span class=\"wx-data\"><span class=\"wx-value\">10.0</span><span class=\"wx-unit\"> km</span></span>,\n",
       " <span class=\"wx-data\"><span class=\"wx-value\">18.0</span><span class=\"wx-unit\"> km/h</span></span>,\n",
       " <span class=\"wx-data\"><span class=\"wx-value\">5.0</span><span class=\"wx-unit\"> m/s</span></span>,\n",
       " <span class=\"wx-data\"><span class=\"wx-value\">27</span><span class=\"wx-unit\"> °C</span></span>,\n",
       " <span class=\"wx-data\"><span class=\"wx-value\">14</span><span class=\"wx-unit\"> °C</span></span>,\n",
       " <span class=\"wx-data\"><span class=\"wx-value\">1016</span><span class=\"wx-unit\"> hPa</span></span>,\n",
       " <span class=\"wx-data\"><span class=\"wx-value\">10</span><span class=\"wx-unit\"> km</span></span>,\n",
       " <span class=\"wx-data\"><span class=\"wx-value\">10.8</span><span class=\"wx-unit\"> km/h</span></span>,\n",
       " <span class=\"wx-data\"><span class=\"wx-value\"></span><span class=\"wx-unit\"> </span></span>,\n",
       " <span class=\"wx-data\"><span class=\"wx-value\">28.0</span><span class=\"wx-unit\"> °C</span></span>,\n",
       " <span class=\"wx-data\"><span class=\"wx-value\">27.5</span><span class=\"wx-unit\"> °C</span></span>,\n",
       " <span class=\"wx-data\"><span class=\"wx-value\">12.0</span><span class=\"wx-unit\"> °C</span></span>,\n",
       " <span class=\"wx-data\"><span class=\"wx-value\">1017</span><span class=\"wx-unit\"> hPa</span></span>,\n",
       " <span class=\"wx-data\"><span class=\"wx-value\">10.0</span><span class=\"wx-unit\"> km</span></span>,\n",
       " <span class=\"wx-data\"><span class=\"wx-value\">14.4</span><span class=\"wx-unit\"> km/h</span></span>,\n",
       " <span class=\"wx-data\"><span class=\"wx-value\">4.0</span><span class=\"wx-unit\"> m/s</span></span>,\n",
       " <span class=\"wx-data\"><span class=\"wx-value\">28.0</span><span class=\"wx-unit\"> °C</span></span>,\n",
       " <span class=\"wx-data\"><span class=\"wx-value\">27.6</span><span class=\"wx-unit\"> °C</span></span>,\n",
       " <span class=\"wx-data\"><span class=\"wx-value\">13.0</span><span class=\"wx-unit\"> °C</span></span>,\n",
       " <span class=\"wx-data\"><span class=\"wx-value\">1016</span><span class=\"wx-unit\"> hPa</span></span>,\n",
       " <span class=\"wx-data\"><span class=\"wx-value\">10.0</span><span class=\"wx-unit\"> km</span></span>,\n",
       " <span class=\"wx-data\"><span class=\"wx-value\">10.8</span><span class=\"wx-unit\"> km/h</span></span>,\n",
       " <span class=\"wx-data\"><span class=\"wx-value\">3.0</span><span class=\"wx-unit\"> m/s</span></span>,\n",
       " <span class=\"wx-data\"><span class=\"wx-value\">28.0</span><span class=\"wx-unit\"> °C</span></span>,\n",
       " <span class=\"wx-data\"><span class=\"wx-value\">11.0</span><span class=\"wx-unit\"> °C</span></span>,\n",
       " <span class=\"wx-data\"><span class=\"wx-value\">1016</span><span class=\"wx-unit\"> hPa</span></span>,\n",
       " <span class=\"wx-data\"><span class=\"wx-value\">10.0</span><span class=\"wx-unit\"> km</span></span>,\n",
       " <span class=\"wx-data\"><span class=\"wx-value\">14.4</span><span class=\"wx-unit\"> km/h</span></span>,\n",
       " <span class=\"wx-data\"><span class=\"wx-value\">4.0</span><span class=\"wx-unit\"> m/s</span></span>,\n",
       " <span class=\"wx-data\"><span class=\"wx-value\">27.0</span><span class=\"wx-unit\"> °C</span></span>,\n",
       " <span class=\"wx-data\"><span class=\"wx-value\">27.0</span><span class=\"wx-unit\"> °C</span></span>,\n",
       " <span class=\"wx-data\"><span class=\"wx-value\">13.0</span><span class=\"wx-unit\"> °C</span></span>,\n",
       " <span class=\"wx-data\"><span class=\"wx-value\">1016</span><span class=\"wx-unit\"> hPa</span></span>,\n",
       " <span class=\"wx-data\"><span class=\"wx-value\">10.0</span><span class=\"wx-unit\"> km</span></span>,\n",
       " <span class=\"wx-data\"><span class=\"wx-value\">14.4</span><span class=\"wx-unit\"> km/h</span></span>,\n",
       " <span class=\"wx-data\"><span class=\"wx-value\">4.0</span><span class=\"wx-unit\"> m/s</span></span>,\n",
       " <span class=\"wx-data\"><span class=\"wx-value\">27.0</span><span class=\"wx-unit\"> °C</span></span>,\n",
       " <span class=\"wx-data\"><span class=\"wx-value\">27.0</span><span class=\"wx-unit\"> °C</span></span>,\n",
       " <span class=\"wx-data\"><span class=\"wx-value\">13.0</span><span class=\"wx-unit\"> °C</span></span>,\n",
       " <span class=\"wx-data\"><span class=\"wx-value\">1016</span><span class=\"wx-unit\"> hPa</span></span>,\n",
       " <span class=\"wx-data\"><span class=\"wx-value\">10.0</span><span class=\"wx-unit\"> km</span></span>,\n",
       " <span class=\"wx-data\"><span class=\"wx-value\">10.8</span><span class=\"wx-unit\"> km/h</span></span>,\n",
       " <span class=\"wx-data\"><span class=\"wx-value\">3.0</span><span class=\"wx-unit\"> m/s</span></span>,\n",
       " <span class=\"wx-data\"><span class=\"wx-value\">26.0</span><span class=\"wx-unit\"> °C</span></span>,\n",
       " <span class=\"wx-data\"><span class=\"wx-value\">15.0</span><span class=\"wx-unit\"> °C</span></span>,\n",
       " <span class=\"wx-data\"><span class=\"wx-value\">1016</span><span class=\"wx-unit\"> hPa</span></span>,\n",
       " <span class=\"wx-data\"><span class=\"wx-value\">10.0</span><span class=\"wx-unit\"> km</span></span>,\n",
       " <span class=\"wx-data\"><span class=\"wx-value\">14.4</span><span class=\"wx-unit\"> km/h</span></span>,\n",
       " <span class=\"wx-data\"><span class=\"wx-value\">4.0</span><span class=\"wx-unit\"> m/s</span></span>,\n",
       " <span class=\"wx-data\"><span class=\"wx-value\">27</span><span class=\"wx-unit\"> °C</span></span>,\n",
       " <span class=\"wx-data\"><span class=\"wx-value\">13</span><span class=\"wx-unit\"> °C</span></span>,\n",
       " <span class=\"wx-data\"><span class=\"wx-value\">1015</span><span class=\"wx-unit\"> hPa</span></span>,\n",
       " <span class=\"wx-data\"><span class=\"wx-value\">10</span><span class=\"wx-unit\"> km</span></span>,\n",
       " <span class=\"wx-data\"><span class=\"wx-value\">3.6</span><span class=\"wx-unit\"> km/h</span></span>,\n",
       " <span class=\"wx-data\"><span class=\"wx-value\"></span><span class=\"wx-unit\"> </span></span>,\n",
       " <span class=\"wx-data\"><span class=\"wx-value\">28.0</span><span class=\"wx-unit\"> °C</span></span>,\n",
       " <span class=\"wx-data\"><span class=\"wx-value\">27.5</span><span class=\"wx-unit\"> °C</span></span>,\n",
       " <span class=\"wx-data\"><span class=\"wx-value\">12.0</span><span class=\"wx-unit\"> °C</span></span>,\n",
       " <span class=\"wx-data\"><span class=\"wx-value\">1016</span><span class=\"wx-unit\"> hPa</span></span>,\n",
       " <span class=\"wx-data\"><span class=\"wx-value\">10.0</span><span class=\"wx-unit\"> km</span></span>,\n",
       " <span class=\"wx-data\"><span class=\"wx-value\">7.2</span><span class=\"wx-unit\"> km/h</span></span>,\n",
       " <span class=\"wx-data\"><span class=\"wx-value\">2.0</span><span class=\"wx-unit\"> m/s</span></span>,\n",
       " <span class=\"wx-data\"><span class=\"wx-value\">27.0</span><span class=\"wx-unit\"> °C</span></span>,\n",
       " <span class=\"wx-data\"><span class=\"wx-value\">27.0</span><span class=\"wx-unit\"> °C</span></span>,\n",
       " <span class=\"wx-data\"><span class=\"wx-value\">13.0</span><span class=\"wx-unit\"> °C</span></span>,\n",
       " <span class=\"wx-data\"><span class=\"wx-value\">1016</span><span class=\"wx-unit\"> hPa</span></span>,\n",
       " <span class=\"wx-data\"><span class=\"wx-value\">10.0</span><span class=\"wx-unit\"> km</span></span>,\n",
       " <span class=\"wx-data\"><span class=\"wx-value\">7.2</span><span class=\"wx-unit\"> km/h</span></span>,\n",
       " <span class=\"wx-data\"><span class=\"wx-value\">2.0</span><span class=\"wx-unit\"> m/s</span></span>,\n",
       " <span class=\"wx-data\"><span class=\"wx-value\">26.0</span><span class=\"wx-unit\"> °C</span></span>,\n",
       " <span class=\"wx-data\"><span class=\"wx-value\">15.0</span><span class=\"wx-unit\"> °C</span></span>,\n",
       " <span class=\"wx-data\"><span class=\"wx-value\">1016</span><span class=\"wx-unit\"> hPa</span></span>,\n",
       " <span class=\"wx-data\"><span class=\"wx-value\">10.0</span><span class=\"wx-unit\"> km</span></span>,\n",
       " <span class=\"wx-data\"><span class=\"wx-value\">10.8</span><span class=\"wx-unit\"> km/h</span></span>,\n",
       " <span class=\"wx-data\"><span class=\"wx-value\">3.0</span><span class=\"wx-unit\"> m/s</span></span>,\n",
       " <span class=\"wx-data\"><span class=\"wx-value\">25.0</span><span class=\"wx-unit\"> °C</span></span>,\n",
       " <span class=\"wx-data\"><span class=\"wx-value\">15.0</span><span class=\"wx-unit\"> °C</span></span>,\n",
       " <span class=\"wx-data\"><span class=\"wx-value\">1016</span><span class=\"wx-unit\"> hPa</span></span>,\n",
       " <span class=\"wx-data\"><span class=\"wx-value\">10.0</span><span class=\"wx-unit\"> km</span></span>,\n",
       " <span class=\"wx-data\"><span class=\"wx-value\">10.8</span><span class=\"wx-unit\"> km/h</span></span>,\n",
       " <span class=\"wx-data\"><span class=\"wx-value\">3.0</span><span class=\"wx-unit\"> m/s</span></span>,\n",
       " <span class=\"wx-data\"><span class=\"wx-value\">25.0</span><span class=\"wx-unit\"> °C</span></span>,\n",
       " <span class=\"wx-data\"><span class=\"wx-value\">14.0</span><span class=\"wx-unit\"> °C</span></span>,\n",
       " <span class=\"wx-data\"><span class=\"wx-value\">1016</span><span class=\"wx-unit\"> hPa</span></span>,\n",
       " <span class=\"wx-data\"><span class=\"wx-value\">10.0</span><span class=\"wx-unit\"> km</span></span>,\n",
       " <span class=\"wx-data\"><span class=\"wx-value\">7.2</span><span class=\"wx-unit\"> km/h</span></span>,\n",
       " <span class=\"wx-data\"><span class=\"wx-value\">2.0</span><span class=\"wx-unit\"> m/s</span></span>,\n",
       " <span class=\"wx-data\"><span class=\"wx-value\">25.0</span><span class=\"wx-unit\"> °C</span></span>,\n",
       " <span class=\"wx-data\"><span class=\"wx-value\">12.0</span><span class=\"wx-unit\"> °C</span></span>,\n",
       " <span class=\"wx-data\"><span class=\"wx-value\">1016</span><span class=\"wx-unit\"> hPa</span></span>,\n",
       " <span class=\"wx-data\"><span class=\"wx-value\">10.0</span><span class=\"wx-unit\"> km</span></span>,\n",
       " <span class=\"wx-data\"><span class=\"wx-value\">7.2</span><span class=\"wx-unit\"> km/h</span></span>,\n",
       " <span class=\"wx-data\"><span class=\"wx-value\">2.0</span><span class=\"wx-unit\"> m/s</span></span>,\n",
       " <span class=\"wx-data\"><span class=\"wx-value\">24</span><span class=\"wx-unit\"> °C</span></span>,\n",
       " <span class=\"wx-data\"><span class=\"wx-value\">14</span><span class=\"wx-unit\"> °C</span></span>,\n",
       " <span class=\"wx-data\"><span class=\"wx-value\">1016</span><span class=\"wx-unit\"> hPa</span></span>,\n",
       " <span class=\"wx-data\"><span class=\"wx-value\">10</span><span class=\"wx-unit\"> km</span></span>,\n",
       " <span class=\"wx-data\"><span class=\"wx-value\">3.6</span><span class=\"wx-unit\"> km/h</span></span>,\n",
       " <span class=\"wx-data\"><span class=\"wx-value\"></span><span class=\"wx-unit\"> </span></span>,\n",
       " <span class=\"wx-data\"><span class=\"wx-value\">24.0</span><span class=\"wx-unit\"> °C</span></span>,\n",
       " <span class=\"wx-data\"><span class=\"wx-value\">13.0</span><span class=\"wx-unit\"> °C</span></span>,\n",
       " <span class=\"wx-data\"><span class=\"wx-value\">1016</span><span class=\"wx-unit\"> hPa</span></span>,\n",
       " <span class=\"wx-data\"><span class=\"wx-value\">7.2</span><span class=\"wx-unit\"> km/h</span></span>,\n",
       " <span class=\"wx-data\"><span class=\"wx-value\">2.0</span><span class=\"wx-unit\"> m/s</span></span>,\n",
       " <span class=\"wx-data\"><span class=\"wx-value\">24.0</span><span class=\"wx-unit\"> °C</span></span>,\n",
       " <span class=\"wx-data\"><span class=\"wx-value\">13.0</span><span class=\"wx-unit\"> °C</span></span>,\n",
       " <span class=\"wx-data\"><span class=\"wx-value\">1016</span><span class=\"wx-unit\"> hPa</span></span>,\n",
       " <span class=\"wx-data\"><span class=\"wx-value\">3.6</span><span class=\"wx-unit\"> km/h</span></span>,\n",
       " <span class=\"wx-data\"><span class=\"wx-value\">1.0</span><span class=\"wx-unit\"> m/s</span></span>,\n",
       " <span class=\"wx-data\"><span class=\"wx-value\">23.0</span><span class=\"wx-unit\"> °C</span></span>,\n",
       " <span class=\"wx-data\"><span class=\"wx-value\">14.0</span><span class=\"wx-unit\"> °C</span></span>,\n",
       " <span class=\"wx-data\"><span class=\"wx-value\">1016</span><span class=\"wx-unit\"> hPa</span></span>,\n",
       " <span class=\"wx-data\"><span class=\"wx-value\">3.6</span><span class=\"wx-unit\"> km/h</span></span>,\n",
       " <span class=\"wx-data\"><span class=\"wx-value\">1.0</span><span class=\"wx-unit\"> m/s</span></span>,\n",
       " <span class=\"wx-data\"><span class=\"wx-value\">22.0</span><span class=\"wx-unit\"> °C</span></span>,\n",
       " <span class=\"wx-data\"><span class=\"wx-value\">14.0</span><span class=\"wx-unit\"> °C</span></span>,\n",
       " <span class=\"wx-data\"><span class=\"wx-value\">1016</span><span class=\"wx-unit\"> hPa</span></span>,\n",
       " <span class=\"wx-data\"><span class=\"wx-value\">3.6</span><span class=\"wx-unit\"> km/h</span></span>,\n",
       " <span class=\"wx-data\"><span class=\"wx-value\">1.0</span><span class=\"wx-unit\"> m/s</span></span>,\n",
       " <span class=\"wx-data\"><span class=\"wx-value\">21.0</span><span class=\"wx-unit\"> °C</span></span>,\n",
       " <span class=\"wx-data\"><span class=\"wx-value\">16.0</span><span class=\"wx-unit\"> °C</span></span>,\n",
       " <span class=\"wx-data\"><span class=\"wx-value\">1016</span><span class=\"wx-unit\"> hPa</span></span>,\n",
       " <span class=\"wx-data\"><span class=\"wx-value\">3.6</span><span class=\"wx-unit\"> km/h</span></span>,\n",
       " <span class=\"wx-data\"><span class=\"wx-value\">1.0</span><span class=\"wx-unit\"> m/s</span></span>,\n",
       " <span class=\"wx-data\"><span class=\"wx-value\">22.0</span><span class=\"wx-unit\"> °C</span></span>,\n",
       " <span class=\"wx-data\"><span class=\"wx-value\">16.0</span><span class=\"wx-unit\"> °C</span></span>,\n",
       " <span class=\"wx-data\"><span class=\"wx-value\">1016</span><span class=\"wx-unit\"> hPa</span></span>,\n",
       " <span class=\"wx-data\"><span class=\"wx-value\">3.6</span><span class=\"wx-unit\"> km/h</span></span>,\n",
       " <span class=\"wx-data\"><span class=\"wx-value\">1.0</span><span class=\"wx-unit\"> m/s</span></span>]"
      ]
     },
     "execution_count": 13,
     "metadata": {},
     "output_type": "execute_result"
    }
   ],
   "source": [
    "wx_data=soup.find_all(attrs={\"class\":\"wx-data\"})\n",
    "wx_data"
   ]
  },
  {
   "cell_type": "markdown",
   "metadata": {},
   "source": [
    "Максимальна температура розташована під номером 1 у нашому списку рядків:"
   ]
  },
  {
   "cell_type": "code",
   "execution_count": 14,
   "metadata": {},
   "outputs": [
    {
     "name": "stdout",
     "output_type": "stream",
     "text": [
      "<span class=\"wx-data\"><span class=\"wx-value\">28</span><span class=\"wx-unit\"> °C</span></span>\n"
     ]
    }
   ],
   "source": [
    "print(wx_data[1])"
   ]
  },
  {
   "cell_type": "markdown",
   "metadata": {},
   "source": [
    "Отримаємо тільки значення максимальної температури"
   ]
  },
  {
   "cell_type": "code",
   "execution_count": 15,
   "metadata": {},
   "outputs": [
    {
     "data": {
      "text/plain": [
       "'28'"
      ]
     },
     "execution_count": 15,
     "metadata": {},
     "output_type": "execute_result"
    }
   ],
   "source": [
    "day_temp=wx_data[1].span.string\n",
    "day_temp"
   ]
  },
  {
   "cell_type": "markdown",
   "metadata": {},
   "source": [
    "#### Тепер завантажимо дані щоденної максимальної температури за 2016 (високосний) рік"
   ]
  },
  {
   "cell_type": "markdown",
   "metadata": {},
   "source": [
    "Спочатку утворимо тектовий файл з комою в якості відокремлювача "
   ]
  },
  {
   "cell_type": "code",
   "execution_count": 16,
   "metadata": {
    "collapsed": true
   },
   "outputs": [],
   "source": [
    "year_temp=open('wunder_data.txt','w')"
   ]
  },
  {
   "cell_type": "markdown",
   "metadata": {},
   "source": [
    "Далі створюємо вкладені цикли за місяцями та днями, та завантажимо дані за 2016 рік. Процедура парсінгу даних триватиме деякий час (приблизно до 15 хвилин)"
   ]
  },
  {
   "cell_type": "code",
   "execution_count": null,
   "metadata": {
    "collapsed": true
   },
   "outputs": [],
   "source": [
    "for month in range(1,13):\n",
    "    for day in range(1,32):\n",
    "        if (month==2 and day > 29):\n",
    "            break\n",
    "        elif (month in [4,6,9,11] and day>30):\n",
    "            break\n",
    "        else:     # Задамо формат запису місяця та дня\n",
    "            if len(str(month))<2:\n",
    "                month_stamp='0'+str(month)\n",
    "            else:\n",
    "                month_stamp=str(month)\n",
    "            if len(str(day))<2:\n",
    "                day_stamp='0'+str(day)\n",
    "            else:\n",
    "                day_stamp=str(day)\n",
    "            time_stamp='2016'+'/'+month_stamp+'/'+day_stamp\n",
    "        \n",
    "        print('getting data from {}'.format(time_stamp))\n",
    "        url=\"https://www.wunderground.com/history/airport/UKHH/2016\"+'/'+str(month)+'/'+str(day)+'/DailyHistory.htm'\n",
    "        \n",
    "        page2=urllib.request.urlopen(url)\n",
    "        \n",
    "        #завантажимо температуру з вказаної сторінки\n",
    "        soup2=BeautifulSoup(page2)\n",
    "        dayTemp=soup2.find_all(attrs={\"class\":\"wx-data\"})[1].span.string\n",
    "        \n",
    "       \n",
    "        # Запишемо дані в файл\n",
    "        \n",
    "        year_temp.write(timestamp+','+dayTemp+'\\n')\n",
    "# All done. Close file!\n",
    "year_temp.close() \n",
    "\n",
    "\n"
   ]
  },
  {
   "cell_type": "markdown",
   "metadata": {},
   "source": [
    "Прочитаємо утворений файл"
   ]
  },
  {
   "cell_type": "code",
   "execution_count": null,
   "metadata": {
    "collapsed": true
   },
   "outputs": [],
   "source": [
    "df=pd.read_csv('wunder_data.txt',header=None)       \n",
    "\n",
    "df"
   ]
  }
 ],
 "metadata": {
  "kernelspec": {
   "display_name": "Python 3",
   "language": "python",
   "name": "python3"
  },
  "language_info": {
   "codemirror_mode": {
    "name": "ipython",
    "version": 3
   },
   "file_extension": ".py",
   "mimetype": "text/x-python",
   "name": "python",
   "nbconvert_exporter": "python",
   "pygments_lexer": "ipython3",
   "version": "3.6.1"
  }
 },
 "nbformat": 4,
 "nbformat_minor": 2
}
